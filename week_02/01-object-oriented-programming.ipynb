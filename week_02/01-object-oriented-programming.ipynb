{
 "cells": [
  {
   "cell_type": "markdown",
   "id": "fewer-verse",
   "metadata": {},
   "source": [
    "# Programación orientada a objetos"
   ]
  },
  {
   "cell_type": "markdown",
   "id": "sustained-decimal",
   "metadata": {},
   "source": [
    "![gif](https://media.giphy.com/media/U3PGvzpsVpAzGdhY6n/giphy.gif)"
   ]
  },
  {
   "cell_type": "markdown",
   "id": "linear-pierre",
   "metadata": {
    "toc": true
   },
   "source": [
    "<h1>Table of Contents<span class=\"tocSkip\"></span></h1>\n",
    "<div class=\"toc\"><ul class=\"toc-item\"><li><span><a href=\"#¿Qué-es-la-OOP---Object-Orient-Programming?\" data-toc-modified-id=\"¿Qué-es-la-OOP---Object-Orient-Programming?-1\"><span class=\"toc-item-num\">1&nbsp;&nbsp;</span>¿Qué es la OOP - Object Orient Programming?</a></span><ul class=\"toc-item\"><li><span><a href=\"#Principios-fundamentales\" data-toc-modified-id=\"Principios-fundamentales-1.1\"><span class=\"toc-item-num\">1.1&nbsp;&nbsp;</span>Principios fundamentales</a></span></li></ul></li><li><span><a href=\"#Clases-e-instancias\" data-toc-modified-id=\"Clases-e-instancias-2\"><span class=\"toc-item-num\">2&nbsp;&nbsp;</span>Clases e instancias</a></span></li><li><span><a href=\"#Definición-de-una-clase\" data-toc-modified-id=\"Definición-de-una-clase-3\"><span class=\"toc-item-num\">3&nbsp;&nbsp;</span>Definición de una clase</a></span><ul class=\"toc-item\"><li><span><a href=\"#Atributos-de-instancia\" data-toc-modified-id=\"Atributos-de-instancia-3.1\"><span class=\"toc-item-num\">3.1&nbsp;&nbsp;</span>Atributos de instancia</a></span><ul class=\"toc-item\"><li><span><a href=\"#Atributos-por-defecto\" data-toc-modified-id=\"Atributos-por-defecto-3.1.1\"><span class=\"toc-item-num\">3.1.1&nbsp;&nbsp;</span>Atributos por defecto</a></span></li></ul></li><li><span><a href=\"#Métodos-de-instancia\" data-toc-modified-id=\"Métodos-de-instancia-3.2\"><span class=\"toc-item-num\">3.2&nbsp;&nbsp;</span>Métodos de instancia</a></span><ul class=\"toc-item\"><li><span><a href=\"#Python-está-construido-con-objetos\" data-toc-modified-id=\"Python-está-construido-con-objetos-3.2.1\"><span class=\"toc-item-num\">3.2.1&nbsp;&nbsp;</span>Python está construido con objetos</a></span></li></ul></li><li><span><a href=\"#Variables-de-clase\" data-toc-modified-id=\"Variables-de-clase-3.3\"><span class=\"toc-item-num\">3.3&nbsp;&nbsp;</span>Variables de clase</a></span></li><li><span><a href=\"#Métodos-que-pueden-modificar-atributos\" data-toc-modified-id=\"Métodos-que-pueden-modificar-atributos-3.4\"><span class=\"toc-item-num\">3.4&nbsp;&nbsp;</span>Métodos que pueden modificar atributos</a></span></li></ul></li><li><span><a href=\"#Herencia-(Inheritance)\" data-toc-modified-id=\"Herencia-(Inheritance)-4\"><span class=\"toc-item-num\">4&nbsp;&nbsp;</span>Herencia (Inheritance)</a></span><ul class=\"toc-item\"><li><span><a href=\"#super()\" data-toc-modified-id=\"super()-4.1\"><span class=\"toc-item-num\">4.1&nbsp;&nbsp;</span>super()</a></span></li><li><span><a href=\"#Resolución-de-métodos\" data-toc-modified-id=\"Resolución-de-métodos-4.2\"><span class=\"toc-item-num\">4.2&nbsp;&nbsp;</span>Resolución de métodos</a></span></li></ul></li><li><span><a href=\"#Summary\" data-toc-modified-id=\"Summary-5\"><span class=\"toc-item-num\">5&nbsp;&nbsp;</span>Summary</a></span></li><li><span><a href=\"#Further-materials\" data-toc-modified-id=\"Further-materials-6\"><span class=\"toc-item-num\">6&nbsp;&nbsp;</span>Further materials</a></span><ul class=\"toc-item\"><li><span><a href=\"#Métodos-AVANZADOS-@classmethod-@staticmethod\" data-toc-modified-id=\"Métodos-AVANZADOS-@classmethod-@staticmethod-6.1\"><span class=\"toc-item-num\">6.1&nbsp;&nbsp;</span>Métodos <strong>AVANZADOS</strong> @classmethod @staticmethod</a></span></li></ul></li></ul></div>"
   ]
  },
  {
   "cell_type": "markdown",
   "id": "static-nancy",
   "metadata": {},
   "source": [
    "## ¿Qué es la OOP - Object Orient Programming?"
   ]
  },
  {
   "cell_type": "markdown",
   "id": "handy-cleaners",
   "metadata": {},
   "source": [
    "La programación orientada a objetos es un paradigma de programación, es dcir, un estilo y técnica de programación, que va más allá de la propia implementación. Este paradigma se fundamenta en el concepto \"objeto\", el cual puede contener tanto datos, bajo la forma de campos denominados \"atributos\", como código para su manipulación bajo la forma de procedimientos y funciones, denominados \"métodos\". Gracias a esto, podemos agruparlo todo bajo un solo tipo de dato (la \"clase\" de objeto), lo cual facilita la modularidad y la reusabilidad del código.    \n",
    "Esto tiene una fuerte implicación en el diseño de soluciones informáticas; metodologías de ingeniería del software están basadas en la programación orientada a objetos."
   ]
  },
  {
   "cell_type": "markdown",
   "id": "instructional-scotland",
   "metadata": {},
   "source": [
    "Podéis imaginaros los objetos como un nuevo tipo de dato cuya definición viene dada en una estructura llamada clase.\n",
    "Se suelen comparar las clases con moldes de galletas y los objetos con las galletas en sí mismas. Si bien todas las galletas que se hacen con el mismo molde tienen la misma forma, cada una adquiere atributos individuales después del horneado. Cosas como el color, la textura, el sabor... pueden llegar a ser muy distintas.\n",
    "En otras palabras, las galletas comparten un proceso de fabricación y unos atributos, pero son independientes entre ellas y del propio molde y eso hace que cada una sea única.\n",
    "Extrapolando el ejemplo, una clase es sólo un guión sobre como deben ser los objetos que se crearán con ella."
   ]
  },
  {
   "cell_type": "markdown",
   "id": "fallen-brazil",
   "metadata": {},
   "source": [
    "![clases](https://files.realpython.com/media/Object-Oriented-Programming-OOP-in-Python-3_Watermarked.0d29780806d5.jpg)"
   ]
  },
  {
   "cell_type": "markdown",
   "id": "binary-treasury",
   "metadata": {},
   "source": [
    "### Principios fundamentales "
   ]
  },
  {
   "cell_type": "markdown",
   "id": "secondary-arena",
   "metadata": {},
   "source": [
    "   1 - **Abstracción de datos**: Algo que hacemos de forma natural en nuestra comprensión del mundo es la abstracción de información concreta aa conceptos o clases. Por ejemplo, el concepto de \"coche\" nos evoca una idea de vehículo con cuatro ruedass, volante, motor....Nuestro coche es una \"instancia\" concreta de ese concepto, y diferente a otros coches, pero somos capaces de asociar determinadas propiedades o característiicas a dicho concepto por encima de detalles específicos. Esta capacidad de abstraer un concepto es fundamental para el desarrollo del lenguaje humano y, por supuesto, tan buena idea ha sido trasladada al mundo de la programación. En POO (OOP), denominamos \"clase\" al concepto abstracto y \"objeto\" a la realización de dicho concepto. Tu coche es concreto, puedes conducirlo, es un objeto, una \"instancia\" de la clase \"coche\".     \n",
    "   \n",
    "   2 - **Encapsulación**: Cada tipo de objeto contiene una información propia y puede ser manipulado de una forma particular. Un coche se puede conducir y tiene una presión determinada aen las ruedas, un color, un nivel concreto de gasolina, etc. Con un GPS podemos obtener nuestras coordenadas de posición y las baterías tendrán una carga determinada. Un perro ladra, tiene un peso, una edad. Todos esos atributos y \"métodos\" quedan \"encapsulados\" dentro del objeto, y son accesibles solo a través de un objeto determinado. La ventaja es que no necesitamos tener, por ejemplo, una lista con nombres, otra con edades, otra con pesos...sino una lista de objetos y cda uno encierra, es decir, encapsula, su propia información.     \n",
    "   \n",
    "   3 - **Herencia**: Algunas clases pueden especializar a otras. Para esto, la clase especializada \"hereda\" las propiedades de l clase más general, denominada \"superclase\". Por ejemplo, las clases \"Coche\" y \"Camión\" pueden heredar de la clase \"Vehículo\". Esto es una forma de reutilizar el código, al poder asumir aquellas propiedades comunes entre varias clases en una clase superior. Python soporta \"herencia múltiple\", por lo que una clase puede definirse como subclase de varias clases de las que heredaría todas sus propiedades (atributos y métodos) a la vez.    \n",
    "   \n",
    "   4 - **Poliformismo**: Un cuadrado puede dibujarse, un círculo también, como puede dibujarse cualquier otra forma. \"Cuadrado\" y \"Círculo\" serían subclases de \"Forma\". La superclase \"Forma\" implementa un método dibujar(), y tanto la subclase \"Cuadrado\" como la subclase \"Círculo\" redefinen este método a su caso particular. Así una función podría aceptar como parámetro un objeto de tipo \"Forma\" e invocar el método dibujar() sin saber si el argumento pasado es un círculo o un cuadrado. Cada objeto conoce su nivel de especialización y la implementación concreta de sus métodos. Esta capacidad de usar métodos de superclase en el código pero que, en tiempo de ejecución, se resuelvan a métodos de subclases, se denomina \"Poliformismo\": una misma variable puede adoptar distintas formas."
   ]
  },
  {
   "cell_type": "markdown",
   "id": "proof-impact",
   "metadata": {},
   "source": [
    "## Clases e instancias"
   ]
  },
  {
   "cell_type": "markdown",
   "id": "manufactured-template",
   "metadata": {},
   "source": [
    "Una clase es como un tipo abstracto par alos objetos que, además de almacenar valores denominados atributos, tiene asociados una serie de funciones que llamamos métodos. Una instancia de una clase es lo mismo que decir un objeto de esa claase. Instanciar una clase hace referencia a la creación de un objeto que pertenece a esa clase.\n",
    "En Python, los tipos de datos son clases y cualquier literal o vairable de algubno de estos tipos es un objeto que instancia a la clase del tipo. Por ejemplo: a = 2222 equivale a instanciar la clase PyLongObject asignando a un atributo iiniterno el valor 2222. Esto es lo que ocurre a bajo nivel, pero nosotras podemos considerar que la variable a es del tipo int. Podemos conocer el tipo de cualquier variable, es decir, la clase que instaancia, con la función type(), y el identificador del objeto instanciado con la función id()."
   ]
  },
  {
   "cell_type": "code",
   "execution_count": 1,
   "id": "incredible-sample",
   "metadata": {},
   "outputs": [
    {
     "data": {
      "text/plain": [
       "(int, 4319731040)"
      ]
     },
     "execution_count": 1,
     "metadata": {},
     "output_type": "execute_result"
    }
   ],
   "source": [
    "a = 33\n",
    "type(a), id(a)"
   ]
  },
  {
   "cell_type": "markdown",
   "id": "acceptable-building",
   "metadata": {},
   "source": [
    "Para conocer todos los métodos y atributos de una clase podemos usar la función dir() tanto sobre un objeto como sobre la clase."
   ]
  },
  {
   "cell_type": "code",
   "execution_count": 2,
   "id": "forbidden-teacher",
   "metadata": {},
   "outputs": [],
   "source": [
    "#dir(a)"
   ]
  },
  {
   "cell_type": "markdown",
   "id": "joint-cedar",
   "metadata": {},
   "source": [
    "## Definición de una clase "
   ]
  },
  {
   "cell_type": "markdown",
   "id": "cosmetic-seven",
   "metadata": {},
   "source": [
    "Podemos definir nuestras propias clases e indicar si heredan de otras, cuáles son sus atributos internos y cuáles son sus métodos. Una vez definida la clase, es posible crear objetos a partir de esta. Para crear una clase basta con agrupar atributos y métodos en el cuerpo de un bloque **class**.    \n",
    "Imagina que creas un sofwtare para gestionar una escuela, y quieres representar a los \"profesores\" en tu código Python. Los profesores tendrán algunos datos asociados (`atributos` en la jerga `clase`), y podrán *realizar acciones* a través de funciones que llamaremos `métodos` (de nuevo, jerga `clase`).\n",
    "\n",
    "Podríamos hacerlo de uno en uno:"
   ]
  },
  {
   "cell_type": "code",
   "execution_count": null,
   "id": "objective-rochester",
   "metadata": {},
   "outputs": [],
   "source": []
  },
  {
   "cell_type": "code",
   "execution_count": null,
   "id": "micro-temperature",
   "metadata": {},
   "outputs": [],
   "source": []
  },
  {
   "cell_type": "code",
   "execution_count": null,
   "id": "civil-johnson",
   "metadata": {},
   "outputs": [],
   "source": []
  },
  {
   "cell_type": "code",
   "execution_count": null,
   "id": "unique-count",
   "metadata": {},
   "outputs": [],
   "source": []
  },
  {
   "cell_type": "markdown",
   "id": "copyrighted-definition",
   "metadata": {},
   "source": [
    "Os dejo [aquí](https://realpython.com/python-pep8/#naming-styles) un artículo de realpython sobre las convenciones para nombrar cosas (con cosas me refiero a variables, clases, funciones...cositas del código)"
   ]
  },
  {
   "cell_type": "code",
   "execution_count": null,
   "id": "accurate-transcription",
   "metadata": {},
   "outputs": [],
   "source": []
  },
  {
   "cell_type": "code",
   "execution_count": null,
   "id": "early-drain",
   "metadata": {},
   "outputs": [],
   "source": []
  },
  {
   "cell_type": "code",
   "execution_count": null,
   "id": "complimentary-finnish",
   "metadata": {},
   "outputs": [],
   "source": []
  },
  {
   "cell_type": "code",
   "execution_count": null,
   "id": "junior-given",
   "metadata": {},
   "outputs": [],
   "source": []
  },
  {
   "cell_type": "code",
   "execution_count": null,
   "id": "rapid-victim",
   "metadata": {},
   "outputs": [],
   "source": []
  },
  {
   "cell_type": "markdown",
   "id": "decimal-mission",
   "metadata": {},
   "source": [
    "### Atributos de instancia\n",
    "Contienen datos que son únicos para cada instancia."
   ]
  },
  {
   "cell_type": "code",
   "execution_count": 3,
   "id": "digital-personality",
   "metadata": {},
   "outputs": [],
   "source": [
    "# Podemos asignar atributos a las instanacias, una vez ya definidas de la siguiente manera"
   ]
  },
  {
   "cell_type": "code",
   "execution_count": null,
   "id": "detected-bahamas",
   "metadata": {},
   "outputs": [],
   "source": []
  },
  {
   "cell_type": "code",
   "execution_count": 4,
   "id": "acquired-building",
   "metadata": {},
   "outputs": [],
   "source": [
    "# Generar los atributos de la instancia así, no deja de ser repetititvo, y además podríamos equivocarnos...\n",
    "# Fer"
   ]
  },
  {
   "cell_type": "code",
   "execution_count": null,
   "id": "metropolitan-cowboy",
   "metadata": {},
   "outputs": [],
   "source": []
  },
  {
   "cell_type": "markdown",
   "id": "narrative-inspection",
   "metadata": {},
   "source": [
    "En lugar de hacerlo uno por uno, podemos crear estas variables cada vez que se crea una instancia de un objeto con el método especial `__init__`.  Esta función define todas las acciones que deben realizarse cuando creamos un nuevo objeto. La razón por la que tenemos dos guiones bajos antes y después del nombre de la función es para indicar que esta función es interna al objeto y no debe ser llamada desde fuera del objeto.\n",
    "\n",
    "El método `__init__` recibe la instancia como primer argumento --- `fer` en el ejemplo anterior. Por convención, llamamos a ese argumento `self`, pero podría ser cualquier cosa. "
   ]
  },
  {
   "cell_type": "code",
   "execution_count": null,
   "id": "filled-screen",
   "metadata": {},
   "outputs": [],
   "source": []
  },
  {
   "cell_type": "code",
   "execution_count": null,
   "id": "detected-queen",
   "metadata": {},
   "outputs": [],
   "source": []
  },
  {
   "cell_type": "code",
   "execution_count": null,
   "id": "operating-brain",
   "metadata": {},
   "outputs": [],
   "source": []
  },
  {
   "cell_type": "code",
   "execution_count": null,
   "id": "heard-mouth",
   "metadata": {},
   "outputs": [],
   "source": []
  },
  {
   "cell_type": "code",
   "execution_count": null,
   "id": "attempted-boston",
   "metadata": {},
   "outputs": [],
   "source": []
  },
  {
   "cell_type": "code",
   "execution_count": null,
   "id": "instructional-estate",
   "metadata": {},
   "outputs": [],
   "source": []
  },
  {
   "cell_type": "markdown",
   "id": "hindu-calcium",
   "metadata": {},
   "source": [
    "¿Qué hace self? Indica que los datos que estamos metiendo son para el objeto que estamos creando, es exactamente igual que cuando al principio hacíamaos ana.nombre = nombre "
   ]
  },
  {
   "cell_type": "markdown",
   "id": "activated-economy",
   "metadata": {},
   "source": [
    "#### Atributos por defecto\n",
    "\n",
    "Podemos inicializar los atributos con un valor por defecto por si luego, a la hora de crear las instancias, el usuario o nosotras mismas no ponemos nada en alguno de los atributos"
   ]
  },
  {
   "cell_type": "code",
   "execution_count": null,
   "id": "spatial-melissa",
   "metadata": {},
   "outputs": [],
   "source": []
  },
  {
   "cell_type": "code",
   "execution_count": null,
   "id": "thirty-arcade",
   "metadata": {},
   "outputs": [],
   "source": []
  },
  {
   "cell_type": "markdown",
   "id": "coated-convenience",
   "metadata": {},
   "source": [
    "### Métodos de instancia "
   ]
  },
  {
   "cell_type": "markdown",
   "id": "divided-priest",
   "metadata": {},
   "source": [
    "Son funciones dentro de las clases que nos ahorrarán mucho tiempo"
   ]
  },
  {
   "cell_type": "code",
   "execution_count": null,
   "id": "convenient-monitor",
   "metadata": {},
   "outputs": [],
   "source": []
  },
  {
   "cell_type": "code",
   "execution_count": null,
   "id": "curious-detroit",
   "metadata": {},
   "outputs": [],
   "source": []
  },
  {
   "cell_type": "code",
   "execution_count": null,
   "id": "arbitrary-poland",
   "metadata": {},
   "outputs": [],
   "source": []
  },
  {
   "cell_type": "code",
   "execution_count": null,
   "id": "multiple-income",
   "metadata": {},
   "outputs": [],
   "source": []
  },
  {
   "cell_type": "code",
   "execution_count": null,
   "id": "rotary-petroleum",
   "metadata": {},
   "outputs": [],
   "source": []
  },
  {
   "cell_type": "code",
   "execution_count": null,
   "id": "excess-yeast",
   "metadata": {},
   "outputs": [],
   "source": []
  },
  {
   "cell_type": "markdown",
   "id": "simple-sodium",
   "metadata": {},
   "source": [
    "**Ojo**     \n",
    "Si modificamos una clase y añadimos atributos o métodos, tenemos que volver a crear el objeto para que se inicialice con esos atributos y tenga esos métodos."
   ]
  },
  {
   "cell_type": "code",
   "execution_count": 5,
   "id": "figured-briefs",
   "metadata": {},
   "outputs": [],
   "source": [
    "# Ejemplo"
   ]
  },
  {
   "cell_type": "markdown",
   "id": "flying-parameter",
   "metadata": {},
   "source": [
    "#### Python está construido con objetos\n",
    "En Python los tipos de datos primitivos son también objetos que tienen asociados atributos y métodos."
   ]
  },
  {
   "cell_type": "code",
   "execution_count": null,
   "id": "approved-transsexual",
   "metadata": {},
   "outputs": [],
   "source": []
  },
  {
   "cell_type": "markdown",
   "id": "robust-cursor",
   "metadata": {},
   "source": [
    "Siempre que hacemos .algo, es porque estmos llamando a los métodos de esa clase, igual que antes hemos llamado a\n",
    "```python\n",
    "ras.presentacion()\n",
    "````"
   ]
  },
  {
   "cell_type": "markdown",
   "id": "graduate-satellite",
   "metadata": {},
   "source": [
    "### Variables de clase\n",
    "\n",
    "Las variables de instancia son únicas para cada instancia. Las variables de clase, en cambio, son comunes a todas las instancias de una clase."
   ]
  },
  {
   "cell_type": "code",
   "execution_count": null,
   "id": "frequent-training",
   "metadata": {},
   "outputs": [],
   "source": []
  },
  {
   "cell_type": "code",
   "execution_count": 6,
   "id": "popular-workshop",
   "metadata": {},
   "outputs": [],
   "source": [
    "#Ahora todos los objetos que creemos a partir de la clase Instructor, le pondrá la variable horas_lectivas a 8"
   ]
  },
  {
   "cell_type": "code",
   "execution_count": null,
   "id": "dated-dragon",
   "metadata": {},
   "outputs": [],
   "source": []
  },
  {
   "cell_type": "code",
   "execution_count": null,
   "id": "tropical-disco",
   "metadata": {},
   "outputs": [],
   "source": []
  },
  {
   "cell_type": "code",
   "execution_count": null,
   "id": "failing-treatment",
   "metadata": {},
   "outputs": [],
   "source": []
  },
  {
   "cell_type": "code",
   "execution_count": null,
   "id": "agricultural-wrapping",
   "metadata": {},
   "outputs": [],
   "source": []
  },
  {
   "cell_type": "code",
   "execution_count": null,
   "id": "urban-generation",
   "metadata": {},
   "outputs": [],
   "source": []
  },
  {
   "cell_type": "markdown",
   "id": "parliamentary-gateway",
   "metadata": {},
   "source": [
    "Observamos que Python está creando un nuevo atributo para Fer, que anula la variable de clase"
   ]
  },
  {
   "cell_type": "code",
   "execution_count": null,
   "id": "biblical-adolescent",
   "metadata": {},
   "outputs": [],
   "source": []
  },
  {
   "cell_type": "markdown",
   "id": "hidden-reporter",
   "metadata": {},
   "source": [
    "**También OJO**    \n",
    "Si yo quiero moficar una variable de clase para todos los objetos ya creados y no tener que ir de uno en uno."
   ]
  },
  {
   "cell_type": "code",
   "execution_count": null,
   "id": "formed-optics",
   "metadata": {},
   "outputs": [],
   "source": []
  },
  {
   "cell_type": "code",
   "execution_count": null,
   "id": "formed-norway",
   "metadata": {},
   "outputs": [],
   "source": []
  },
  {
   "cell_type": "code",
   "execution_count": null,
   "id": "younger-charge",
   "metadata": {},
   "outputs": [],
   "source": []
  },
  {
   "cell_type": "code",
   "execution_count": null,
   "id": "warming-ghana",
   "metadata": {},
   "outputs": [],
   "source": []
  },
  {
   "cell_type": "markdown",
   "id": "familiar-lighting",
   "metadata": {},
   "source": [
    "En general, no deben usarse atributos de clase, excepto para almacenar valores constantes."
   ]
  },
  {
   "cell_type": "markdown",
   "id": "stunning-worse",
   "metadata": {},
   "source": [
    "### Métodos que pueden modificar atributos"
   ]
  },
  {
   "cell_type": "code",
   "execution_count": null,
   "id": "exclusive-inclusion",
   "metadata": {},
   "outputs": [],
   "source": []
  },
  {
   "cell_type": "code",
   "execution_count": null,
   "id": "committed-bench",
   "metadata": {},
   "outputs": [],
   "source": []
  },
  {
   "cell_type": "code",
   "execution_count": null,
   "id": "reported-guyana",
   "metadata": {},
   "outputs": [],
   "source": []
  },
  {
   "cell_type": "code",
   "execution_count": null,
   "id": "documented-crystal",
   "metadata": {},
   "outputs": [],
   "source": []
  },
  {
   "cell_type": "code",
   "execution_count": null,
   "id": "absent-reader",
   "metadata": {},
   "outputs": [],
   "source": []
  },
  {
   "cell_type": "code",
   "execution_count": null,
   "id": "indonesian-modeling",
   "metadata": {},
   "outputs": [],
   "source": []
  },
  {
   "cell_type": "code",
   "execution_count": null,
   "id": "elect-inclusion",
   "metadata": {},
   "outputs": [],
   "source": []
  },
  {
   "cell_type": "code",
   "execution_count": null,
   "id": "wound-variance",
   "metadata": {},
   "outputs": [],
   "source": []
  },
  {
   "cell_type": "markdown",
   "id": "polished-values",
   "metadata": {},
   "source": [
    "**Ejercicio**\n",
    "\n",
    "Crear una clase `Círculo` con:\n",
    "* radio como variable de instancia/objeto\n",
    "* pi (math.pi) como variable de clase\n",
    "* un método calcular_área(self) que devuelva el área del objeto \"círculo\""
   ]
  },
  {
   "cell_type": "code",
   "execution_count": null,
   "id": "alone-leadership",
   "metadata": {},
   "outputs": [],
   "source": []
  },
  {
   "cell_type": "code",
   "execution_count": null,
   "id": "cutting-chuck",
   "metadata": {},
   "outputs": [],
   "source": []
  },
  {
   "cell_type": "markdown",
   "id": "pressed-proof",
   "metadata": {},
   "source": [
    "## Herencia (Inheritance)"
   ]
  },
  {
   "cell_type": "markdown",
   "id": "japanese-execution",
   "metadata": {},
   "source": [
    "La herencia permite definir nuevas clases a partir de clases existentes. A la clase de la que se hereda se le denomina \"clase madre\"/\"superclase\"/\"parent\". A la clase que hereda se la denomina \"clase hija\"(\"child\") o \"subclase.\"    \n",
    "La clase hija \"hereda\" todas las propiedades de la clase madre y nos permite redefinir métodos y atributos o añadir nuevos. La ventaja fundamental que aporta el mecanismo de herencia a la programación es la capacidad de reutilizar el código. Así, un conjunto de clases que compartan atributos y métodos pueden heredar de una superclase donde se definan esos métodos y atributos."
   ]
  },
  {
   "cell_type": "markdown",
   "id": "wanted-works",
   "metadata": {},
   "source": [
    "\n",
    "![miniyoda](https://media.giphy.com/media/j0eRJzyW7XjMpu1Pqd/giphy.gif)"
   ]
  },
  {
   "cell_type": "code",
   "execution_count": 7,
   "id": "australian-password",
   "metadata": {},
   "outputs": [],
   "source": [
    "# para crear diferentes tipos de profesores\n"
   ]
  },
  {
   "cell_type": "code",
   "execution_count": 9,
   "id": "integral-guyana",
   "metadata": {},
   "outputs": [],
   "source": [
    "# Creamos un \"tipo especial\" de instructors que heredan de instructor\n"
   ]
  },
  {
   "cell_type": "code",
   "execution_count": null,
   "id": "biblical-guyana",
   "metadata": {},
   "outputs": [],
   "source": []
  },
  {
   "cell_type": "code",
   "execution_count": null,
   "id": "typical-platinum",
   "metadata": {},
   "outputs": [],
   "source": []
  },
  {
   "cell_type": "markdown",
   "id": "continuing-fundamental",
   "metadata": {},
   "source": [
    "- Método definido en el `parent`, pero no en el `child`\n",
    "\n",
    "En este caso, el hijo heredará el método del padre, funcionará exactamente igual y no hay que redefinirlo.\n",
    "\n",
    "- Método definido en `Child`, pero no en Parent\n",
    "\n",
    "El método sólo pertenece al hijo. La herencia es en un solo sentido.\n",
    "\n",
    "- Método definido en \"ambos\".\n",
    "\n",
    "Aquí pueden ocurrir dos cosas, pero ambas son una variante del mismo hecho. El método escrito en la clase `Child` sobrescribirá el definido anteriormente en Parent.\n",
    "\n",
    "Sin embargo, si queremos utilizar el método original y simplemente añadirle algo más, siempre podemos hacer referencia al método original (de padre) con `super()`. La función `super()` nos permite llamar a cualquier método de la clase padre. Sólo recuerda llamarlo sobre el nuevo definido y asegurarte de obtener todos los atributos que necesita 😉 ."
   ]
  },
  {
   "cell_type": "markdown",
   "id": "willing-workshop",
   "metadata": {},
   "source": [
    "### super()"
   ]
  },
  {
   "cell_type": "code",
   "execution_count": null,
   "id": "sustainable-niger",
   "metadata": {},
   "outputs": [],
   "source": []
  },
  {
   "cell_type": "code",
   "execution_count": 11,
   "id": "incorrect-sacramento",
   "metadata": {},
   "outputs": [],
   "source": [
    "# Veámosle la utilidad      \n"
   ]
  },
  {
   "cell_type": "code",
   "execution_count": null,
   "id": "living-adaptation",
   "metadata": {},
   "outputs": [],
   "source": []
  },
  {
   "cell_type": "code",
   "execution_count": null,
   "id": "liquid-congo",
   "metadata": {},
   "outputs": [],
   "source": []
  },
  {
   "cell_type": "code",
   "execution_count": null,
   "id": "forward-repository",
   "metadata": {},
   "outputs": [],
   "source": []
  },
  {
   "cell_type": "code",
   "execution_count": null,
   "id": "weird-industry",
   "metadata": {},
   "outputs": [],
   "source": []
  },
  {
   "cell_type": "markdown",
   "id": "middle-saver",
   "metadata": {},
   "source": [
    "### Resolución de métodos"
   ]
  },
  {
   "cell_type": "code",
   "execution_count": null,
   "id": "metallic-differential",
   "metadata": {},
   "outputs": [],
   "source": []
  },
  {
   "cell_type": "markdown",
   "id": "corresponding-business",
   "metadata": {},
   "source": [
    "## Summary \n",
    "Now it is your turn: What have we learnt?"
   ]
  },
  {
   "cell_type": "markdown",
   "id": "christian-breach",
   "metadata": {},
   "source": [
    "## Further materials\n",
    "\n",
    "* Tutorial de Youtube de [Corey Schafer](https://www.youtube.com/watch?v=ZDa-Z5JzLYM)\n",
    "* [Real Python](https://docs.hektorprofe.net/python/programacion-orientada-a-objetos/clases-y-objetos/)\n",
    "* [Interesante lectura](https://medium.com/@shaistha24/functional-programming-vs-object-oriented-programming-oop-which-is-better-82172e53a526)"
   ]
  },
  {
   "cell_type": "markdown",
   "id": "technical-chocolate",
   "metadata": {},
   "source": [
    "### Métodos **AVANZADOS** @classmethod @staticmethod\n",
    "* [Real Python - @classmethod/@stathicmethod](https://realpython.com/instance-class-and-static-methods-demystified/) - Python avanzado con decoradores (los mencionaremos más adelante)"
   ]
  }
 ],
 "metadata": {
  "kernelspec": {
   "display_name": "Python 3",
   "language": "python",
   "name": "python3"
  },
  "language_info": {
   "codemirror_mode": {
    "name": "ipython",
    "version": 3
   },
   "file_extension": ".py",
   "mimetype": "text/x-python",
   "name": "python",
   "nbconvert_exporter": "python",
   "pygments_lexer": "ipython3",
   "version": "3.8.5"
  },
  "toc": {
   "base_numbering": 1,
   "nav_menu": {},
   "number_sections": true,
   "sideBar": true,
   "skip_h1_title": true,
   "title_cell": "Table of Contents",
   "title_sidebar": "Contents",
   "toc_cell": true,
   "toc_position": {
    "height": "calc(100% - 180px)",
    "left": "10px",
    "top": "150px",
    "width": "288px"
   },
   "toc_section_display": true,
   "toc_window_display": false
  }
 },
 "nbformat": 4,
 "nbformat_minor": 5
}
