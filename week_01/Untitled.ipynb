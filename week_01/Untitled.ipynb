{
 "cells": [
  {
   "cell_type": "code",
   "execution_count": 3,
   "metadata": {},
   "outputs": [
    {
     "name": "stdout",
     "output_type": "stream",
     "text": [
      "Introduce un número: 1\n",
      "Introduce un número: 2\n",
      "Introduce un número: 3\n",
      "Introduce un número: 4\n",
      "Introduce un número: 5\n",
      "Introduce un número: 6\n",
      "Introduce un número: 7\n",
      "Introduce un número: 8\n",
      "Introduce un número: 9\n",
      "Introduce un número: 0\n",
      "La suma total es: 45\n"
     ]
    }
   ],
   "source": [
    "## num=None\n",
    "suma=0\n",
    "while num!=0:\n",
    "    num=int(input(\"Introduce un número: \"))\n",
    "    suma+=num\n",
    "print(f\"La suma total es: {suma}\")"
   ]
  },
  {
   "cell_type": "code",
   "execution_count": 9,
   "metadata": {},
   "outputs": [
    {
     "name": "stdout",
     "output_type": "stream",
     "text": [
      "Introduce un número entero positivo: 2\n",
      "Números introducidos: [2]\n",
      "Introduce un número entero positivo: 1\n",
      "Números introducidos: [2, 1]\n",
      "Introduce un número entero positivo: 45\n",
      "Números introducidos: [2, 1, 45]\n",
      "Introduce un número entero positivo: -3\n",
      "El número introducido no es positivo.\n",
      "Introduce un número entero positivo: 4564\n",
      "Números introducidos: [2, 1, 45, 4564]\n",
      "Introduce un número entero positivo: 0\n",
      "El número introducido no es positivo.\n",
      "El número mas grande es: 4564\n"
     ]
    }
   ],
   "source": [
    "lista=[]\n",
    "num=None\n",
    "\n",
    "while num!=0:\n",
    "    num=int(input(\"Introduce un número entero positivo: \"))\n",
    "    if num>0:\n",
    "        lista.append(num)\n",
    "        print(f\"Números introducidos: {lista}\")\n",
    "    else:\n",
    "        print(\"El número introducido no es positivo.\")\n",
    "print(f\"El número mas grande es: {max(lista)}\")\n"
   ]
  },
  {
   "cell_type": "code",
   "execution_count": 10,
   "metadata": {},
   "outputs": [
    {
     "name": "stdout",
     "output_type": "stream",
     "text": [
      "Ejercicio 1:\n",
      "introduce tu edad: 23\n",
      "[1, 2, 3, 4, 5, 6, 7, 8, 9, 10, 11, 12, 13, 14, 15, 16, 17, 18, 19, 20, 21, 22, 23]\n"
     ]
    }
   ],
   "source": [
    "print(\"Ejercicio 1:\")\n",
    "lista=[]\n",
    "edad=int(input(\"introduce tu edad: \"))\n",
    "for anos in range(1,edad+1):\n",
    "    lista.append(anos)\n",
    "print(lista)"
   ]
  },
  {
   "cell_type": "code",
   "execution_count": 11,
   "metadata": {},
   "outputs": [
    {
     "name": "stdout",
     "output_type": "stream",
     "text": [
      "Ejercicio 2:\n",
      "introduce tu edad: 22\n",
      "[1, 3, 5, 7, 9, 11, 13, 15, 17, 19, 21]\n"
     ]
    }
   ],
   "source": [
    "print(\"Ejercicio 2:\")\n",
    "lista=[]\n",
    "edad=int(input(\"introduce tu edad: \"))\n",
    "for anos in range(1,edad,2):\n",
    "    lista.append(anos)\n",
    "print(lista)"
   ]
  },
  {
   "cell_type": "code",
   "execution_count": null,
   "metadata": {},
   "outputs": [],
   "source": []
  }
 ],
 "metadata": {
  "kernelspec": {
   "display_name": "Python 3",
   "language": "python",
   "name": "python3"
  },
  "language_info": {
   "codemirror_mode": {
    "name": "ipython",
    "version": 3
   },
   "file_extension": ".py",
   "mimetype": "text/x-python",
   "name": "python",
   "nbconvert_exporter": "python",
   "pygments_lexer": "ipython3",
   "version": "3.8.5"
  }
 },
 "nbformat": 4,
 "nbformat_minor": 4
}
