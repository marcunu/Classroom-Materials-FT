{
 "cells": [
  {
   "cell_type": "code",
   "execution_count": 3,
   "metadata": {},
   "outputs": [
    {
     "name": "stdout",
     "output_type": "stream",
     "text": [
      "Introduce un número: 1\n",
      "Introduce un número: 2\n",
      "Introduce un número: 3\n",
      "Introduce un número: 4\n",
      "Introduce un número: 5\n",
      "Introduce un número: 6\n",
      "Introduce un número: 7\n",
      "Introduce un número: 8\n",
      "Introduce un número: 9\n",
      "Introduce un número: 0\n",
      "La suma total es: 45\n"
     ]
    }
   ],
   "source": [
    "## num=None\n",
    "suma=0\n",
    "while num!=0:\n",
    "    num=int(input(\"Introduce un número: \"))\n",
    "    suma+=num\n",
    "print(f\"La suma total es: {suma}\")"
   ]
  },
  {
   "cell_type": "code",
   "execution_count": 9,
   "metadata": {},
   "outputs": [
    {
     "name": "stdout",
     "output_type": "stream",
     "text": [
      "Introduce un número entero positivo: 2\n",
      "Números introducidos: [2]\n",
      "Introduce un número entero positivo: 1\n",
      "Números introducidos: [2, 1]\n",
      "Introduce un número entero positivo: 45\n",
      "Números introducidos: [2, 1, 45]\n",
      "Introduce un número entero positivo: -3\n",
      "El número introducido no es positivo.\n",
      "Introduce un número entero positivo: 4564\n",
      "Números introducidos: [2, 1, 45, 4564]\n",
      "Introduce un número entero positivo: 0\n",
      "El número introducido no es positivo.\n",
      "El número mas grande es: 4564\n"
     ]
    }
   ],
   "source": [
    "lista=[]\n",
    "num=None\n",
    "\n",
    "while num!=0:\n",
    "    num=int(input(\"Introduce un número entero positivo: \"))\n",
    "    if num>0:\n",
    "        lista.append(num)\n",
    "        print(f\"Números introducidos: {lista}\")\n",
    "    else:\n",
    "        print(\"El número introducido no es positivo.\")\n",
    "print(f\"El número mas grande es: {max(lista)}\")\n"
   ]
  },
  {
   "cell_type": "code",
   "execution_count": 10,
   "metadata": {},
   "outputs": [
    {
     "name": "stdout",
     "output_type": "stream",
     "text": [
      "Ejercicio 1:\n",
      "introduce tu edad: 23\n",
      "[1, 2, 3, 4, 5, 6, 7, 8, 9, 10, 11, 12, 13, 14, 15, 16, 17, 18, 19, 20, 21, 22, 23]\n"
     ]
    }
   ],
   "source": [
    "print(\"Ejercicio 1:\")\n",
    "lista=[]\n",
    "edad=int(input(\"introduce tu edad: \"))\n",
    "for anos in range(1,edad+1):\n",
    "    lista.append(anos)\n",
    "print(lista)"
   ]
  },
  {
   "cell_type": "code",
   "execution_count": 11,
   "metadata": {},
   "outputs": [
    {
     "name": "stdout",
     "output_type": "stream",
     "text": [
      "Ejercicio 2:\n",
      "introduce tu edad: 22\n",
      "[1, 3, 5, 7, 9, 11, 13, 15, 17, 19, 21]\n"
     ]
    }
   ],
   "source": [
    "print(\"Ejercicio 2:\")\n",
    "lista=[]\n",
    "edad=int(input(\"introduce tu edad: \"))\n",
    "for anos in range(1,edad,2):\n",
    "    lista.append(anos)\n",
    "print(lista)"
   ]
  },
  {
   "cell_type": "code",
   "execution_count": 20,
   "metadata": {},
   "outputs": [
    {
     "name": "stdout",
     "output_type": "stream",
     "text": [
      "play\n",
      "filling\n",
      "bar\n",
      "theatre\n",
      "easygoing\n",
      "date\n",
      "lead\n",
      "that\n",
      "story\n",
      "island\n",
      "['PLAY', 'FILLING', 'BAR', 'THEATRE', 'EASYGOING', 'DATE', 'LEAD', 'THAT', 'STORY', 'ISLAND']\n"
     ]
    }
   ],
   "source": [
    "\n",
    "words = ['play', 'filling', 'bar', 'theatre', 'easygoing', 'date', 'lead', 'that', 'story',  'island']\n",
    "mayusc=[]\n",
    "for w in words:\n",
    "    print(w)\n",
    "    mayusc.append(w.upper())\n",
    "print(mayusc)"
   ]
  },
  {
   "cell_type": "code",
   "execution_count": 25,
   "metadata": {},
   "outputs": [
    {
     "name": "stdout",
     "output_type": "stream",
     "text": [
      "[0, 1, 2, 3, 4, 5, 6, 7, 8, 9]\n",
      "[0, 1, 4, 9, 16, 25, 36, 49, 64, 81]\n"
     ]
    }
   ],
   "source": [
    "nums = list(range(10))\n",
    "print(nums)\n",
    "sq=[]\n",
    "for n in nums:\n",
    "    sq.append(n**2)\n",
    "print(sq)"
   ]
  },
  {
   "cell_type": "code",
   "execution_count": 27,
   "metadata": {},
   "outputs": [
    {
     "name": "stdout",
     "output_type": "stream",
     "text": [
      "[0, 1, 4, 9, 16, 25, 36, 49, 64, 81]\n"
     ]
    }
   ],
   "source": [
    "\n",
    "sq=[n**2 for n in nums]\n",
    "print(sq)"
   ]
  },
  {
   "cell_type": "code",
   "execution_count": 28,
   "metadata": {},
   "outputs": [
    {
     "name": "stdout",
     "output_type": "stream",
     "text": [
      "['play', 'filling', 'bar', 'theatre', 'easygoing', 'date', 'lead', 'that', 'story', 'island']\n"
     ]
    }
   ],
   "source": [
    "print(words)"
   ]
  },
  {
   "cell_type": "code",
   "execution_count": 30,
   "metadata": {},
   "outputs": [
    {
     "name": "stdout",
     "output_type": "stream",
     "text": [
      "['filling', 'theatre', 'easygoing']\n"
     ]
    }
   ],
   "source": [
    "n_words= []\n",
    "for lon in words:\n",
    "    if len(lon)>6:\n",
    "        n_words.append(lon)\n",
    "print(n_words)\n",
    "        "
   ]
  },
  {
   "cell_type": "code",
   "execution_count": 32,
   "metadata": {},
   "outputs": [
    {
     "name": "stdout",
     "output_type": "stream",
     "text": [
      "['filling', 'theatre', 'easygoing']\n"
     ]
    }
   ],
   "source": [
    "n_words = []\n",
    "n_words = [lon for lon in words if len(lon)>6]\n",
    "print (n_words)"
   ]
  },
  {
   "cell_type": "code",
   "execution_count": 39,
   "metadata": {},
   "outputs": [
    {
     "name": "stdout",
     "output_type": "stream",
     "text": [
      "[0, 5, 10, 15, 20, 25, 30, 35, 40, 45, 50, 55, 60, 65, 70, 75, 80, 85, 90, 95, 100]\n"
     ]
    }
   ],
   "source": [
    "num5 = []\n",
    "for n in range(101):\n",
    "    if n % 5 == 0:\n",
    "        num5.append(n)\n",
    "print(num5)"
   ]
  },
  {
   "cell_type": "code",
   "execution_count": 40,
   "metadata": {},
   "outputs": [
    {
     "name": "stdout",
     "output_type": "stream",
     "text": [
      "[0, 5, 10, 15, 20, 25, 30, 35, 40, 45, 50, 55, 60, 65, 70, 75, 80, 85, 90, 95, 100]\n"
     ]
    }
   ],
   "source": [
    "\n",
    "num5 = [n for n in range(101) if n % 5 == 0]\n",
    "print(num5)"
   ]
  },
  {
   "cell_type": "code",
   "execution_count": 43,
   "metadata": {},
   "outputs": [
    {
     "name": "stdout",
     "output_type": "stream",
     "text": [
      "['play', 'filling', 'bar', 'theatre', 'easygoing', 'date', 'lead', 'that', 'story', 'island']\n"
     ]
    }
   ],
   "source": [
    "print(words)"
   ]
  },
  {
   "cell_type": "code",
   "execution_count": 46,
   "metadata": {},
   "outputs": [
    {
     "name": "stdout",
     "output_type": "stream",
     "text": [
      "['short', 'long', 'short', 'long', 'long', 'short', 'short', 'short', 'short', 'long']\n"
     ]
    }
   ],
   "source": [
    "tipo = [(\"long\" if len(w) > 5 else \"short\") for w in words]\n",
    "print(tipo)"
   ]
  },
  {
   "cell_type": "code",
   "execution_count": 49,
   "metadata": {},
   "outputs": [
    {
     "name": "stdout",
     "output_type": "stream",
     "text": [
      "Alice loves Brasil\n",
      "Alice loves Morocco\n",
      "Alice loves New Zealand\n",
      "Bob loves Brasil\n",
      "Bob loves Morocco\n",
      "Bob loves New Zealand\n",
      "Eve loves Brasil\n",
      "Eve loves Morocco\n",
      "Eve loves New Zealand\n",
      "John loves Brasil\n",
      "John loves Morocco\n",
      "John loves New Zealand\n",
      "['Alice loves Brasil', 'Alice loves Morocco', 'Alice loves New Zealand', 'Bob loves Brasil', 'Bob loves Morocco', 'Bob loves New Zealand', 'Eve loves Brasil', 'Eve loves Morocco', 'Eve loves New Zealand', 'John loves Brasil', 'John loves Morocco', 'John loves New Zealand']\n"
     ]
    }
   ],
   "source": [
    "countries = [\"Brasil\", \"Morocco\", \"New Zealand\"]\n",
    "friends = [\"Alice\", \"Bob\", \"Eve\", \"John\"]\n",
    "for f in friends:\n",
    "    for c in countries:\n",
    "        print(f\"{f} loves {c}\")\n",
    "        \n",
    "#loves = [f\"{f} loves {c}\" for f , c in  \n",
    "\n",
    "loves = [f\"{f} loves {c}\" for f in friends for c in countries]\n",
    "print(loves)"
   ]
  },
  {
   "cell_type": "code",
   "execution_count": 52,
   "metadata": {},
   "outputs": [
    {
     "name": "stdout",
     "output_type": "stream",
     "text": [
      "[['Alice', 'ALICE', 'alice'], ['Bob', 'BOB', 'bob'], ['Eve', 'EVE', 'eve'], ['John', 'JOHN', 'john']]\n"
     ]
    }
   ],
   "source": [
    "amigos = [[f, f.upper(), f.lower()] for f in friends]\n",
    "print(amigos)"
   ]
  },
  {
   "cell_type": "code",
   "execution_count": 53,
   "metadata": {},
   "outputs": [
    {
     "name": "stdout",
     "output_type": "stream",
     "text": [
      "{'play': 4, 'filling': 7, 'bar': 3, 'theatre': 7, 'easygoing': 9, 'date': 4, 'lead': 4, 'that': 4, 'story': 5, 'island': 6}\n"
     ]
    }
   ],
   "source": [
    "words_dict = dict()\n",
    "\n",
    "for w in words:\n",
    "    words_dict[w] = len(w)\n",
    "\n",
    "print(words_dict)\n"
   ]
  },
  {
   "cell_type": "code",
   "execution_count": 55,
   "metadata": {},
   "outputs": [
    {
     "name": "stdout",
     "output_type": "stream",
     "text": [
      "{'play': 4, 'filling': 7, 'bar': 3, 'theatre': 7, 'easygoing': 9, 'date': 4, 'lead': 4, 'that': 4, 'story': 5, 'island': 6}\n"
     ]
    }
   ],
   "source": [
    "wdict = {w:len(w) for w in words}\n",
    "print(wdict)"
   ]
  },
  {
   "cell_type": "code",
   "execution_count": 61,
   "metadata": {},
   "outputs": [
    {
     "name": "stdout",
     "output_type": "stream",
     "text": [
      "{'Alice': 29, 'Bob': 33, 'Eve': 39, 'John': 24}\n"
     ]
    }
   ],
   "source": [
    "ages = {\n",
    "    \"Alice\": 24,\n",
    "    \"Bob\": 28,\n",
    "    \"Eve\": 34,\n",
    "    \"John\": 19\n",
    "}\n",
    "\n",
    "ages_2 = dict()\n",
    "\n",
    "for n,e in ages.items():\n",
    "    ages_2[n] = e + 5\n",
    "\n",
    "print(ages_2)"
   ]
  },
  {
   "cell_type": "code",
   "execution_count": 64,
   "metadata": {},
   "outputs": [
    {
     "name": "stdout",
     "output_type": "stream",
     "text": [
      "{'Alice': 29, 'Bob': 33, 'Eve': 39, 'John': 24}\n"
     ]
    }
   ],
   "source": [
    "new_ages = {n : e + 5 for n, e in ages.items()}\n",
    "print(new_ages)"
   ]
  },
  {
   "cell_type": "code",
   "execution_count": 74,
   "metadata": {},
   "outputs": [
    {
     "ename": "AttributeError",
     "evalue": "'list' object has no attribute 'split'",
     "output_type": "error",
     "traceback": [
      "\u001b[1;31m---------------------------------------------------------------------------\u001b[0m",
      "\u001b[1;31mAttributeError\u001b[0m                            Traceback (most recent call last)",
      "\u001b[1;32m<ipython-input-74-5da512409ee0>\u001b[0m in \u001b[0;36m<module>\u001b[1;34m\u001b[0m\n\u001b[0;32m      3\u001b[0m \u001b[0mpaises\u001b[0m \u001b[1;33m=\u001b[0m \u001b[1;33m[\u001b[0m\u001b[1;33m]\u001b[0m\u001b[1;33m\u001b[0m\u001b[1;33m\u001b[0m\u001b[0m\n\u001b[0;32m      4\u001b[0m \u001b[1;32mfor\u001b[0m \u001b[0mc\u001b[0m \u001b[1;32min\u001b[0m \u001b[0mcodes\u001b[0m\u001b[1;33m:\u001b[0m\u001b[1;33m\u001b[0m\u001b[1;33m\u001b[0m\u001b[0m\n\u001b[1;32m----> 5\u001b[1;33m     \u001b[0mcodes\u001b[0m\u001b[1;33m.\u001b[0m\u001b[0msplit\u001b[0m\u001b[1;33m(\u001b[0m\u001b[1;34m\"-\"\u001b[0m\u001b[1;33m)\u001b[0m\u001b[1;33m[\u001b[0m\u001b[1;36m0\u001b[0m\u001b[1;33m]\u001b[0m\u001b[1;33m\u001b[0m\u001b[1;33m\u001b[0m\u001b[0m\n\u001b[0m",
      "\u001b[1;31mAttributeError\u001b[0m: 'list' object has no attribute 'split'"
     ]
    }
   ],
   "source": [
    "codes = [\"es-91\", \"en-88\", \"en-43\", \"fr-12\", \"it-33\", \"es-15\", \"fr-55\", \"es-66\", \"usa-55\"]\n",
    "\n",
    "paises = []\n",
    "for c in codes:\n",
    "    codes.split(\"-\")[0]"
   ]
  },
  {
   "cell_type": "code",
   "execution_count": 73,
   "metadata": {},
   "outputs": [
    {
     "data": {
      "text/plain": [
       "{'en', 'es', 'fr', 'it', 'usa'}"
      ]
     },
     "execution_count": 73,
     "metadata": {},
     "output_type": "execute_result"
    }
   ],
   "source": [
    "cd class"
   ]
  },
  {
   "cell_type": "code",
   "execution_count": null,
   "metadata": {},
   "outputs": [],
   "source": []
  }
 ],
 "metadata": {
  "kernelspec": {
   "display_name": "Python 3",
   "language": "python",
   "name": "python3"
  },
  "language_info": {
   "codemirror_mode": {
    "name": "ipython",
    "version": 3
   },
   "file_extension": ".py",
   "mimetype": "text/x-python",
   "name": "python",
   "nbconvert_exporter": "python",
   "pygments_lexer": "ipython3",
   "version": "3.8.5"
  }
 },
 "nbformat": 4,
 "nbformat_minor": 4
}
